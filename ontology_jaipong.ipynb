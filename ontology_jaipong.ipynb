{
  "nbformat": 4,
  "nbformat_minor": 0,
  "metadata": {
    "colab": {
      "name": "ontology_jaipong2.ipynb",
      "provenance": []
    },
    "kernelspec": {
      "name": "python3",
      "display_name": "Python 3"
    }
  },
  "cells": [
    {
      "cell_type": "code",
      "metadata": {
        "colab": {
          "base_uri": "https://localhost:8080/"
        },
        "id": "hJlogaKSx1S3",
        "outputId": "4109375b-e1d4-44c6-fc33-4430d97549e1"
      },
      "source": [
        "!pip install owlready2"
      ],
      "execution_count": 77,
      "outputs": [
        {
          "output_type": "stream",
          "text": [
            "Requirement already satisfied: owlready2 in /usr/local/lib/python3.7/dist-packages (0.29)\n"
          ],
          "name": "stdout"
        }
      ]
    },
    {
      "cell_type": "code",
      "metadata": {
        "id": "-2w14fydwusT"
      },
      "source": [
        "from owlready2 import *\n",
        "\n",
        "onto = get_ontology(\"http://test.org/ontologi_tariJaipong2.owl\")"
      ],
      "execution_count": 78,
      "outputs": []
    },
    {
      "cell_type": "markdown",
      "metadata": {
        "id": "GrrriYn8zQ45"
      },
      "source": [
        "### Membuat Class"
      ]
    },
    {
      "cell_type": "code",
      "metadata": {
        "id": "OqRXREq_xt8h"
      },
      "source": [
        "with onto :\n",
        "  class tarian(Thing):\n",
        "    ontology = onto\n",
        "\n",
        "  class gerakan(Thing):\n",
        "    ontology = onto"
      ],
      "execution_count": 79,
      "outputs": []
    },
    {
      "cell_type": "markdown",
      "metadata": {
        "id": "2y-INb6-zURw"
      },
      "source": [
        "### Membuat Object Property"
      ]
    },
    {
      "cell_type": "code",
      "metadata": {
        "id": "Fjg1Ep45FXeO"
      },
      "source": [
        "with onto :\n",
        "  class has_gerakan(ObjectProperty):\n",
        "    ontology = onto\n",
        "    domain   = [tarian]\n",
        "    range    = [gerakan]\n",
        "\n",
        "  class has_next_step(ObjectProperty):\n",
        "    ontology = onto\n",
        "    domain   = [gerakan]\n",
        "    range    = [gerakan]"
      ],
      "execution_count": 80,
      "outputs": []
    },
    {
      "cell_type": "markdown",
      "metadata": {
        "id": "sGPP_7-0zrgQ"
      },
      "source": [
        "### Membuat Instances Gerakan dan Tarian"
      ]
    },
    {
      "cell_type": "code",
      "metadata": {
        "id": "gxJR8S9MVFZk"
      },
      "source": [
        "jaipong_oraywelang = tarian(\"jaipong_oraywelang\")"
      ],
      "execution_count": 81,
      "outputs": []
    },
    {
      "cell_type": "code",
      "metadata": {
        "id": "48VCcISeVkde"
      },
      "source": [
        "adeg_adeg = gerakan(\"adeg_adeg\")\n",
        "selut_capang = gerakan(\"selut_capang\")\n",
        "galeong_jedag = gerakan(\"galeong_jedag\")\n",
        "selut_jambret = gerakan(\"selut_jambret\")\n",
        "kanan_tarik = gerakan(\"kanan_tarik\")\n",
        "kiri_tarik = gerakan(\"kiri_tarik\")\n",
        "cindek = gerakan(\"cindek\")\n",
        "jalak_pengkor_kiri = gerakan(\"jalak_pengkor_kiri\")\n",
        "tumpang_tali = gerakan(\"tumpang_tali\")\n",
        "jalak_pengkor_kanan = gerakan(\"jalak_pengkor_kanan\")\n",
        "obah_bahu = gerakan(\"obah_bahu\")\n",
        "ranggah_kanan_kiri = gerakan(\"ranggah_kanan_kiri\")\n",
        "sembah = gerakan(\"sembah\")"
      ],
      "execution_count": 82,
      "outputs": []
    },
    {
      "cell_type": "markdown",
      "metadata": {
        "id": "BKnbCbXuz4K-"
      },
      "source": [
        "### Membuat Relasi:has_gerakan"
      ]
    },
    {
      "cell_type": "code",
      "metadata": {
        "id": "-0ISBcy1Wt7d"
      },
      "source": [
        "jaipong_oraywelang.has_gerakan.append(adeg_adeg)\n",
        "jaipong_oraywelang.has_gerakan.append(selut_capang)\n",
        "jaipong_oraywelang.has_gerakan.append(galeong_jedag)\n",
        "jaipong_oraywelang.has_gerakan.append(selut_jambret)\n",
        "jaipong_oraywelang.has_gerakan.append(kanan_tarik)\n",
        "jaipong_oraywelang.has_gerakan.append(kiri_tarik)\n",
        "jaipong_oraywelang.has_gerakan.append(cindek)\n",
        "jaipong_oraywelang.has_gerakan.append(jalak_pengkor_kiri)\n",
        "jaipong_oraywelang.has_gerakan.append(tumpang_tali)\n",
        "jaipong_oraywelang.has_gerakan.append(jalak_pengkor_kanan)\n",
        "jaipong_oraywelang.has_gerakan.append(obah_bahu)\n",
        "jaipong_oraywelang.has_gerakan.append(ranggah_kanan_kiri)\n",
        "jaipong_oraywelang.has_gerakan.append(sembah)"
      ],
      "execution_count": 83,
      "outputs": []
    },
    {
      "cell_type": "code",
      "metadata": {
        "colab": {
          "base_uri": "https://localhost:8080/"
        },
        "id": "gsdCIyTqxfmK",
        "outputId": "e3e254d6-b9a8-417f-d17e-bde45eef4a3f"
      },
      "source": [
        "print(jaipong_oraywelang.has_gerakan)"
      ],
      "execution_count": 84,
      "outputs": [
        {
          "output_type": "stream",
          "text": [
            "[ontologi_tariJaipong2.adeg_adeg, ontologi_tariJaipong2.selut_capang, ontologi_tariJaipong2.galeong_jedag, ontologi_tariJaipong2.selut_jambret, ontologi_tariJaipong2.kanan_tarik, ontologi_tariJaipong2.kiri_tarik, ontologi_tariJaipong2.cindek, ontologi_tariJaipong2.jalak_pengkor_kiri, ontologi_tariJaipong2.tumpang_tali, ontologi_tariJaipong2.jalak_pengkor_kanan, ontologi_tariJaipong2.obah_bahu, ontologi_tariJaipong2.ranggah_kanan_kiri, ontologi_tariJaipong2.sembah, ontologi_tariJaipong2.adeg_adeg, ontologi_tariJaipong2.selut_capang, ontologi_tariJaipong2.galeong_jedag, ontologi_tariJaipong2.selut_jambret, ontologi_tariJaipong2.kanan_tarik, ontologi_tariJaipong2.kiri_tarik, ontologi_tariJaipong2.cindek, ontologi_tariJaipong2.jalak_pengkor_kiri, ontologi_tariJaipong2.tumpang_tali, ontologi_tariJaipong2.jalak_pengkor_kanan, ontologi_tariJaipong2.obah_bahu, ontologi_tariJaipong2.ranggah_kanan_kiri, ontologi_tariJaipong2.sembah, ontologi_tariJaipong2.adeg_adeg, ontologi_tariJaipong2.selut_capang, ontologi_tariJaipong2.galeong_jedag, ontologi_tariJaipong2.selut_jambret, ontologi_tariJaipong2.kanan_tarik, ontologi_tariJaipong2.kiri_tarik, ontologi_tariJaipong2.cindek, ontologi_tariJaipong2.jalak_pengkor_kiri, ontologi_tariJaipong2.tumpang_tali, ontologi_tariJaipong2.jalak_pengkor_kanan, ontologi_tariJaipong2.obah_bahu, ontologi_tariJaipong2.ranggah_kanan_kiri, ontologi_tariJaipong2.sembah, ontologi_tariJaipong2.adeg_adeg, ontologi_tariJaipong2.selut_capang, ontologi_tariJaipong2.galeong_jedag, ontologi_tariJaipong2.selut_jambret, ontologi_tariJaipong2.kanan_tarik, ontologi_tariJaipong2.kiri_tarik, ontologi_tariJaipong2.cindek, ontologi_tariJaipong2.jalak_pengkor_kiri, ontologi_tariJaipong2.tumpang_tali, ontologi_tariJaipong2.jalak_pengkor_kanan, ontologi_tariJaipong2.obah_bahu, ontologi_tariJaipong2.ranggah_kanan_kiri, ontologi_tariJaipong2.sembah, ontologi_tariJaipong2.adeg_adeg, ontologi_tariJaipong2.selut_capang, ontologi_tariJaipong2.galeong_jedag, ontologi_tariJaipong2.selut_jambret, ontologi_tariJaipong2.kanan_tarik, ontologi_tariJaipong2.kiri_tarik, ontologi_tariJaipong2.cindek, ontologi_tariJaipong2.jalak_pengkor_kiri, ontologi_tariJaipong2.tumpang_tali, ontologi_tariJaipong2.jalak_pengkor_kanan, ontologi_tariJaipong2.obah_bahu, ontologi_tariJaipong2.ranggah_kanan_kiri, ontologi_tariJaipong2.sembah]\n"
          ],
          "name": "stdout"
        }
      ]
    },
    {
      "cell_type": "markdown",
      "metadata": {
        "id": "pXmjRWIqMVFD"
      },
      "source": [
        "### Membuat SubObjek Properti: has_next_step"
      ]
    },
    {
      "cell_type": "code",
      "metadata": {
        "id": "2TDokBB-MSHB"
      },
      "source": [
        "with onto :\n",
        "  class has_next_step1(has_next_step):pass\n",
        "  class has_next_step2(has_next_step):pass\n",
        "  class has_next_step3(has_next_step):pass\n",
        "  class has_next_step4(has_next_step):pass\n",
        "  class has_next_step5(has_next_step):pass\n",
        "  class has_next_step6(has_next_step):pass\n",
        "  class has_next_step7(has_next_step):pass\n",
        "  class has_next_step8(has_next_step):pass\n",
        "  class has_next_step9(has_next_step):pass\n",
        "  class has_next_step10(has_next_step):pass\n",
        "  class has_next_step11(has_next_step):pass\n",
        "  class has_next_step12(has_next_step):pass\n",
        "  class has_next_step13(has_next_step):pass\n",
        "  class has_next_step14(has_next_step):pass\n",
        "  class has_next_step15(has_next_step):pass\n",
        "  class has_next_step16(has_next_step):pass\n",
        "  class has_next_step17(has_next_step):pass\n",
        "  class has_next_step18(has_next_step):pass\n",
        "  class has_next_step19(has_next_step):pass\n",
        "  class has_next_step20(has_next_step):pass\n",
        "  class has_next_step21(has_next_step):pass\n",
        "  class has_next_step22(has_next_step):pass\n",
        "  class has_next_step23(has_next_step):pass\n",
        "  class has_next_step24(has_next_step):pass\n",
        "  class has_next_step25(has_next_step):pass\n",
        "  class has_next_step26(has_next_step):pass\n",
        "  class has_next_step27(has_next_step):pass\n",
        "  class has_next_step28(has_next_step):pass\n",
        "  class has_next_step29(has_next_step):pass\n",
        "  class has_next_step30(has_next_step):pass\n",
        "  class has_next_step31(has_next_step):pass\n",
        "  class has_next_step32(has_next_step):pass\n",
        "  class has_next_step33(has_next_step):pass\n",
        "  class has_next_step34(has_next_step):pass\n",
        "  class has_next_step35(has_next_step):pass\n",
        "  class has_next_step36(has_next_step):pass\n",
        "  class has_next_step37(has_next_step):pass\n",
        "  class has_next_step38(has_next_step):pass\n",
        "  class has_next_step39(has_next_step):pass\n",
        "  class has_next_step40(has_next_step):pass"
      ],
      "execution_count": 85,
      "outputs": []
    },
    {
      "cell_type": "code",
      "metadata": {
        "id": "HrhOquOFMbv3"
      },
      "source": [
        "with onto :\n",
        "  class has_next_step41(has_next_step):pass\n",
        "  class has_next_step42(has_next_step):pass\n",
        "  class has_next_step43(has_next_step):pass\n",
        "  class has_next_step44(has_next_step):pass\n",
        "  class has_next_step45(has_next_step):pass\n",
        "  class has_next_step46(has_next_step):pass\n",
        "  class has_next_step47(has_next_step):pass\n",
        "  class has_next_step48(has_next_step):pass\n",
        "  class has_next_step49(has_next_step):pass\n",
        "  class has_next_step50(has_next_step):pass\n",
        "  class has_next_step51(has_next_step):pass\n",
        "  class has_next_step52(has_next_step):pass\n",
        "  class has_next_step53(has_next_step):pass\n",
        "  class has_next_step54(has_next_step):pass\n",
        "  class has_next_step55(has_next_step):pass\n",
        "  class has_next_step56(has_next_step):pass\n",
        "  class has_next_step57(has_next_step):pass\n",
        "  class has_next_step58(has_next_step):pass\n",
        "  class has_next_step59(has_next_step):pass\n",
        "  class has_next_step60(has_next_step):pass\n",
        "  class has_next_step61(has_next_step):pass\n",
        "  class has_next_step62(has_next_step):pass\n",
        "  class has_next_step63(has_next_step):pass\n",
        "  class has_next_step64(has_next_step):pass\n",
        "  class has_next_step65(has_next_step):pass\n",
        "  class has_next_step66(has_next_step):pass\n",
        "  class has_next_step67(has_next_step):pass\n",
        "  class has_next_step68(has_next_step):pass\n",
        "  class has_next_step69(has_next_step):pass"
      ],
      "execution_count": 86,
      "outputs": []
    },
    {
      "cell_type": "markdown",
      "metadata": {
        "id": "qtQQjuj-5VKZ"
      },
      "source": [
        "### Membuat Relasi:has_next_step"
      ]
    },
    {
      "cell_type": "code",
      "metadata": {
        "id": "c_CDXIEt5TQ5"
      },
      "source": [
        "adeg_adeg.has_next_step1.append(selut_capang)\n",
        "selut_capang.has_next_step2.append(galeong_jedag)\n",
        "galeong_jedag.has_next_step3.append(jalak_pengkor_kanan)\n",
        "jalak_pengkor_kanan.has_next_step4.append(galeong_jedag)\n",
        "galeong_jedag.has_next_step5.append(selut_jambret)\n",
        "selut_jambret.has_next_step6.append(kanan_tarik)\n",
        "kanan_tarik.has_next_step7.append(kiri_tarik)\n",
        "kiri_tarik.has_next_step8.append(cindek)\n",
        "cindek.has_next_step9.append(galeong_jedag)\n",
        "galeong_jedag.has_next_step10.append(selut_capang)\n",
        "selut_capang.has_next_step11.append(galeong_jedag)\n",
        "galeong_jedag.has_next_step12.append(jalak_pengkor_kiri)\n",
        "jalak_pengkor_kiri.has_next_step13.append(galeong_jedag)\n",
        "galeong_jedag.has_next_step14.append(selut_jambret)\n",
        "selut_jambret.has_next_step15.append(kiri_tarik)\n",
        "kiri_tarik.has_next_step16.append(kanan_tarik)\n",
        "kanan_tarik.has_next_step17.append(cindek)\n",
        "cindek.has_next_step18.append(galeong_jedag)\n",
        "galeong_jedag.has_next_step19.append(tumpang_tali)\n",
        "tumpang_tali.has_next_step20.append(jalak_pengkor_kanan)\n",
        "jalak_pengkor_kanan.has_next_step21.append(galeong_jedag)\n",
        "galeong_jedag.has_next_step22.append(selut_capang)\n",
        "selut_capang.has_next_step23.append(galeong_jedag)\n",
        "galeong_jedag.has_next_step24.append(jalak_pengkor_kiri)"
      ],
      "execution_count": 87,
      "outputs": []
    },
    {
      "cell_type": "code",
      "metadata": {
        "id": "LuxyXfOM8Bgl"
      },
      "source": [
        "jalak_pengkor_kiri.has_next_step25.append(galeong_jedag)\n",
        "galeong_jedag.has_next_step26.append(selut_jambret)\n",
        "selut_jambret.has_next_step27.append(kiri_tarik)\n",
        "kiri_tarik.has_next_step28.append(kanan_tarik)\n",
        "kanan_tarik.has_next_step29.append(obah_bahu)\n",
        "obah_bahu.has_next_step30.append(galeong_jedag)\n",
        "galeong_jedag.has_next_step31.append(tumpang_tali)\n",
        "tumpang_tali.has_next_step32.append(obah_bahu)\n",
        "obah_bahu.has_next_step33.append(selut_jambret)\n",
        "selut_jambret.has_next_step34.append(obah_bahu)\n",
        "obah_bahu.has_next_step35.append(galeong_jedag)\n",
        "galeong_jedag.has_next_step36.append(selut_capang)\n",
        "selut_capang.has_next_step37.append(galeong_jedag)\n",
        "galeong_jedag.has_next_step38.append(jalak_pengkor_kiri)\n",
        "jalak_pengkor_kiri.has_next_step39.append(galeong_jedag)\n",
        "galeong_jedag.has_next_step40.append(selut_jambret)\n",
        "selut_jambret.has_next_step41.append(kiri_tarik)\n",
        "kiri_tarik.has_next_step42.append(kanan_tarik)\n",
        "kanan_tarik.has_next_step43.append(cindek)\n",
        "cindek.has_next_step44.append(galeong_jedag)"
      ],
      "execution_count": 88,
      "outputs": []
    },
    {
      "cell_type": "code",
      "metadata": {
        "id": "m2V1Qz8YeRZq"
      },
      "source": [
        "galeong_jedag.has_next_step45.append(obah_bahu)\n",
        "obah_bahu.has_next_step46.append(ranggah_kanan_kiri)\n",
        "ranggah_kanan_kiri.has_next_step47.append(obah_bahu)\n",
        "obah_bahu.has_next_step48.append(galeong_jedag)\n",
        "galeong_jedag.has_next_step49.append(ranggah_kanan_kiri)\n",
        "ranggah_kanan_kiri.has_next_step50.append(selut_capang)\n",
        "selut_capang.has_next_step51.append(galeong_jedag)\n",
        "galeong_jedag.has_next_step52.append(jalak_pengkor_kiri)\n",
        "jalak_pengkor_kiri.has_next_step53.append(galeong_jedag)\n",
        "galeong_jedag.has_next_step54.append(selut_jambret)\n",
        "selut_jambret.has_next_step55.append(kiri_tarik)\n",
        "kiri_tarik.has_next_step56.append(kanan_tarik)\n",
        "kanan_tarik.has_next_step57.append(cindek)\n",
        "cindek.has_next_step58.append(galeong_jedag)\n",
        "galeong_jedag.has_next_step59.append(selut_capang)\n",
        "selut_capang.has_next_step60.append(galeong_jedag)\n",
        "galeong_jedag.has_next_step61.append(jalak_pengkor_kiri)\n",
        "jalak_pengkor_kiri.has_next_step62.append(galeong_jedag)\n",
        "galeong_jedag.has_next_step63.append(selut_jambret)\n",
        "selut_jambret.has_next_step64.append(kiri_tarik)\n",
        "kiri_tarik.has_next_step65.append(kanan_tarik)\n",
        "kanan_tarik.has_next_step66.append(cindek)\n",
        "cindek.has_next_step67.append(galeong_jedag)\n",
        "galeong_jedag.has_next_step68.append(obah_bahu)\n",
        "obah_bahu.has_next_step69.append(sembah)"
      ],
      "execution_count": 89,
      "outputs": []
    },
    {
      "cell_type": "markdown",
      "metadata": {
        "id": "l155sU-yz-pg"
      },
      "source": [
        "### Membuat Data Property"
      ]
    },
    {
      "cell_type": "code",
      "metadata": {
        "id": "n8dnadU4FRfd"
      },
      "source": [
        "import types\n",
        "\n",
        "with onto :\n",
        "  class jenis_gerakan(DataProperty):\n",
        "    domain = [gerakan]\n",
        "    range = [str]\n",
        "  class deskripsi(DataProperty):\n",
        "    domain = [gerakan]\n",
        "    range = [str]\n",
        "  class dari_sampai_waktu_ke(DataProperty):\n",
        "    domain = [gerakan]\n",
        "    range = [str]\n",
        "  class contoh_gambar(DataProperty):\n",
        "    domain = [gerakan]\n",
        "    range = [str]"
      ],
      "execution_count": 90,
      "outputs": []
    },
    {
      "cell_type": "code",
      "metadata": {
        "id": "mWD-msgrJqg2"
      },
      "source": [
        "adeg_adeg.jenis_gerakan = [\"Kaki\"]\n",
        "adeg_adeg.deskripsi = [\"sikap kaki direnggangkan merendah, telapak kaki menghadap serong\"]\n",
        "adeg_adeg.dari_sampai_waktu_ke = [\"0:00:05-0:00:12\"]\n",
        "adeg_adeg.contoh_gambar = [\"https://drive.google.com/file/d/1c1zFIwgjexbBIGBYYsrEUVBTzwg4Wsi_/view\"]\n",
        "\n",
        "selut_capang.jenis_gerakan = [\"Tangan\"]\n",
        "selut_capang.deskripsi = [\"gerakan membuka kedua tangan kemudian menutup kedua tangan dengan posisi kedua telapak tangan menyilang tepat di arah depan dada\"]\n",
        "selut_capang.dari_sampai_waktu_ke = [\"0:00:13-0:00:15, 0:00:43-0:00:44, 0:01:41-0:01:43, 0:02:39-0:02:41, 0:04:30-0:04:31, 0:05:26-0:05:27\"]\n",
        "selut_capang.contoh_gambar = [\"https://drive.google.com/file/d/1n-YcqwQKG2EZHGjNwPgc5-Lzc44gRilZ/view\"]\n",
        "\n",
        "galeong_jedag.jenis_gerakan = [\"Kombinasi(kepala dan bahu)\"]\n",
        "galeong_jedag.deskripsi = [\"gerakan memutarkan kepala dan bahu dihentakan ke atas dan ke belakang\"]\n",
        "galeong_jedag.dari_sampai_waktu_ke = [\"0:00:16-0:00:19, 0:00:24-0:00:28, 0:00:38-0:00:41, 0:00:46-0:00:49, 0:00:54-0:00:57, 0:01:07-0:01:09, 0:01:38-0:01:41, 0:01:44-0:01:48, 0:01:52-0:01:56, 0:02:06-0:02:08, 0:02:34-0:02:37, 0:02:42-0:02:45, 0:02:49-0:02:52, 0:03:03-0:03:04, 0:04:00-0:04:02, 0:04:32-0:04:35, 0:04:39-0:04:42, 0:04:54-0:04:55, 0:05:28-0:05:32, 0:05:35-0:05:39, 0:05:49-0:05:50\"]\n",
        "galeong_jedag.contoh_gambar = [\"https://drive.google.com/file/d/1PcU5fyaq_uTgvWdIGrJgHC9A1tHYkNOp/view, https://drive.google.com/file/d/1MpF_Y0hUIlKNzSZYARGdgM3Yt9Kf5iS0/view, https://drive.google.com/file/d/1C6E3l2cEcFZksUVissBmXTNooSZX2zAn/view\"]\n",
        "\n",
        "selut_jambret.jenis_gerakan = [\"Tangan\"]\n",
        "selut_jambret.deskripsi = [\"gerakan tangan kanan dan kiri yang digerakan ke depan dengan cara bergantian(seperti gerakan silat)\"]\n",
        "selut_jambret.dari_sampai_waktu_ke = [\"0:00:29-0:00:30, 0:00:58-0:00:59, 0:01:57-0:01:58, 0:02:27-0:02:31, 0:02:53-0:02:54, 0:04:43-0:04:44, 0:05:40-0:05:41\"]\n",
        "selut_jambret.contoh_gambar = [\"https://drive.google.com/file/d/1tngcyV9eWc241ea3w5E8XIbN193en0bm/view\"]\n",
        "\n",
        "kanan_tarik.jenis_gerakan = [\"Kaki\"]\n",
        "kanan_tarik.deskripsi = [\"gerakan kaki yang ditarik dari arah kanan\"]\n",
        "kanan_tarik.dari_sampai_waktu_ke = [\"0:00:30-0:00:31, 0:01:00-0:01:02, 0:02:00-0:02:01, 0:02:56-0:02:57, 0:04:47-0:04:48, 0:05:43-0:05:44\"]\n",
        "kanan_tarik.contoh_gambar = [\"https://drive.google.com/file/d/16daUUTzdqoWV572r4c2bJ8sN7P553ooQ/view, https://drive.google.com/file/d/1DYAHx7yvW3ya0-T8Y1c5-cagYJ6pc5s5/view\"]\n",
        "\n",
        "kiri_tarik.jenis_gerakan = [\"Kaki\"]\n",
        "kiri_tarik.deskripsi = [\"gerakan kaki yang ditarik dari arah kiri\"]\n",
        "kiri_tarik.dari_sampai_waktu_ke = [\"0:00:31-0:00:33, 0:00:60-0:01:00, 0:01:58-0:01:59, 0:02:55-0:02:56, 0:04:45-0:04:46, 0:05:41-0:05:42\"]\n",
        "kiri_tarik.contoh_gambar = [\"https://drive.google.com/file/d/1yW0X0UfR0tpcDN8SzakhunT7Mcy3t19H/view, https://drive.google.com/file/d/1Z0uUOsuGEgTwfFXse1KJUMJL1ZCK3os2/view\"]"
      ],
      "execution_count": 91,
      "outputs": []
    },
    {
      "cell_type": "code",
      "metadata": {
        "id": "iAePzcl5UbHt"
      },
      "source": [
        "cindek.jenis_gerakan = [\"Kaki\"]\n",
        "cindek.deskripsi = [\"sikap kaki adeg-adeg kembar, gerak rengkuh satu sebagai tanda koma pergantian ke gerak selanjutnya\"]\n",
        "cindek.dari_sampai_waktu_ke = [\"0:00:31-0:00:33, 0:00:60-0:01:00, 0:01:58-0:01:59, 0:02:55-0:02:56, 0:04:45-0:04:46, 0:05:41-0:05:42\"]\n",
        "cindek.contoh_gambar = [\"https://drive.google.com/file/d/17YPAag2bp3AdKyuXoFmUy6b9S33KjxFY/view\"]\n",
        "\n",
        "jalak_pengkor_kiri.jenis_gerakan = [\"Kombinasi(kaki dan tangan)\"]\n",
        "jalak_pengkor_kiri.deskripsi = [\"gerakan kaki terpatah-patah ke arah kiri\"]\n",
        "jalak_pengkor_kiri.dari_sampai_waktu_ke = [\"0:00:50-0:00:53, 0:01:49-0:01:51, 0:02:46-0:02:48, 0:04:36-0:04:39, 0:05:33-0:05:34\"]\n",
        "jalak_pengkor_kiri.contoh_gambar = [\"https://drive.google.com/file/d/1qG2qDP_Ag-5tyPlyzchKIHNqPGdfq9_H/view, https://drive.google.com/file/d/1SQGS7OJw5-cpXl9MSWIdAUrP65i07DCt/view\"]\n",
        "\n",
        "tumpang_tali.jenis_gerakan = [\"Tangan\"]\n",
        "tumpang_tali.deskripsi = [\"gerakan kedua tangan ke depan, menyilang dengan posisi tangan kanan tertumpang/berada di atas tangan kanan dengan jari-jari ke arah bawah, lalu tangan kiri lurus ke atas dengan posisi ibu jari ditekuk\"]\n",
        "tumpang_tali.dari_sampai_waktu_ke = [\"0:01:10-0:01:11, 0:02:09-0:02:10\"]\n",
        "tumpang_tali.contoh_gambar = [\"https://drive.google.com/file/d/1lzPjJoSeMDOjwjHX75dPwIyQ5Mls_4Ih/view\"]\n",
        "\n",
        "jalak_pengkor_kanan.jenis_gerakan = [\"Kombinasi(kaki dan tangan)\"]\n",
        "jalak_pengkor_kanan.deskripsi = [\"gerakan kaki terpatah-patah ke arah kanan\"]\n",
        "jalak_pengkor_kanan.dari_sampai_waktu_ke = [\"0:00:20-0:00:23, 0:01:34-0:01:37\"]\n",
        "jalak_pengkor_kanan.contoh_gambar = [\"https://drive.google.com/file/d/17qN2e3CUgY44_vJLvexyuSIYweE1Cp8k/view, https://drive.google.com/file/d/1iyIy9-ngjjsGxlMCIZKcUXZmtuNdlAeA/view\"]\n",
        "\n",
        "obah_bahu.jenis_gerakan = [\"Bahu\"]\n",
        "obah_bahu.deskripsi = [\"menggerakkan bahu ke atas dan ke bawah secara bergantian bahu kanan dan bahu kiri\"]\n",
        "obah_bahu.dari_sampai_waktu_ke = [\"0:02:03-0:02:05, 0:02:13-0:02:14, 0:02:32-0:02:33, 0:03:04-0:03:06, 0:03:58-0:03:59, 0:05:51-0:05:52\"]\n",
        "obah_bahu.contoh_gambar = [\"https://drive.google.com/file/d/1H2GzDzilyk6IL-yWDy7x-Dk9IvJ4pooO/view, https://drive.google.com/file/d/1hr_TKaYiI_THkxb1vAGGyaNB1ulL90Dv/view\"]\n",
        "\n",
        "ranggah_kanan_kiri.jenis_gerakan = [\"Tangan\"]\n",
        "ranggah_kanan_kiri.deskripsi = [\"kedua tangan diangkat ke atas dan kedua telapak tangan terbuka ke atas, lalu kedua tangan diturunkan sampai ke atas bahu dengan badan menghadap kanan dan kiri secara bergantian\"]\n",
        "ranggah_kanan_kiri.dari_sampai_waktu_ke = [\"0:03:25-0:03:28, 0:04:20-0:04:23\"]\n",
        "ranggah_kanan_kiri.contoh_gambar = [\"https://drive.google.com/file/d/1GqYZ_hie369JBIsdglFmf1NzocyEUoaq/view, https://drive.google.com/file/d/1nOUmtC2VNRi2pDCDd-0tIWMjzNgC30v0/view, https://drive.google.com/file/d/1OMw3CWWPjHImdW5qX7vEn6F5N0A9RVWM/view, https://drive.google.com/file/d/14Hi_WwEhHoydHFw5Y6WJQltiPyDpkcUB/view\"]\n",
        "\n",
        "sembah.jenis_gerakan = [\"Tangan\"]\n",
        "sembah.deskripsi = [\"kedua telapak tangan dirapatkan seperti menyembah tepat didepan dada dan hidung\"]\n",
        "sembah.dari_sampai_waktu_ke = [\"0:06:20-0:06:24\"]\n",
        "sembah.contoh_gambar = [\"https://drive.google.com/file/d/1P-gSla7-ofWGT97qeXY21ApKG-aL4ecV/view\"]"
      ],
      "execution_count": 92,
      "outputs": []
    },
    {
      "cell_type": "markdown",
      "metadata": {
        "id": "t7S94qeGFN-I"
      },
      "source": [
        "### Menyimpan Ontologi"
      ]
    },
    {
      "cell_type": "code",
      "metadata": {
        "colab": {
          "base_uri": "https://localhost:8080/"
        },
        "id": "TnVB4SN62A6E",
        "outputId": "29a5c31a-db92-4d87-c500-790e60aa3b95"
      },
      "source": [
        "from google.colab import drive\n",
        "drive.mount('/content/gdrive')"
      ],
      "execution_count": 93,
      "outputs": [
        {
          "output_type": "stream",
          "text": [
            "Drive already mounted at /content/gdrive; to attempt to forcibly remount, call drive.mount(\"/content/gdrive\", force_remount=True).\n"
          ],
          "name": "stdout"
        }
      ]
    },
    {
      "cell_type": "code",
      "metadata": {
        "id": "yx7emrjJx_bi"
      },
      "source": [
        "onto_path.append(F\"/content/gdrive/My Drive/\")\n",
        "onto.save() # menyimpan ontologi format owl"
      ],
      "execution_count": 94,
      "outputs": []
    },
    {
      "cell_type": "code",
      "metadata": {
        "id": "-3gSo12fCcMz"
      },
      "source": [
        "#onto.save(file = F\"/content/gdrive/My Drive/ontologi.rdf\", format = \"rdfxml\") # menyimpan ontologi format rdf"
      ],
      "execution_count": 95,
      "outputs": []
    },
    {
      "cell_type": "code",
      "metadata": {
        "id": "vFBS20JzEWcD"
      },
      "source": [
        ""
      ],
      "execution_count": 95,
      "outputs": []
    }
  ]
}